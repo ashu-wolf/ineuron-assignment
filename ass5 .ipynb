{
 "cells": [
  {
   "cell_type": "code",
   "execution_count": 1,
   "id": "30acfba6",
   "metadata": {},
   "outputs": [],
   "source": [
    "#1. What does an empty dictionary&#39;s code look like?\n",
    "#ans .\n",
    "D={}"
   ]
  },
  {
   "cell_type": "code",
   "execution_count": 3,
   "id": "433e8175",
   "metadata": {},
   "outputs": [
    {
     "data": {
      "text/plain": [
       "{}"
      ]
     },
     "execution_count": 3,
     "metadata": {},
     "output_type": "execute_result"
    }
   ],
   "source": [
    "#2. What is the value of a dictionary value with the key 'foo' and the value 42?\n",
    "#{'foo': 42}"
   ]
  },
  {
   "cell_type": "code",
   "execution_count": 4,
   "id": "a0f1a283",
   "metadata": {},
   "outputs": [],
   "source": [
    "#3. What is the most significant distinction between a dictionary and a list?\n",
    "# A list is an ordered sequence of objects, whereas dictionaries are unordered sets. However, the main difference is that\n",
    "#items in dictionaries are accessed via keys and not via their position.list are defined by \"[]\" but dictionaries are written with \"{}\""
   ]
  },
  {
   "cell_type": "code",
   "execution_count": 5,
   "id": "ecd7ab73",
   "metadata": {},
   "outputs": [],
   "source": [
    "#4. What happens if you try to access spam['foo'] if spam is {'bar': 100}?\n",
    "# it will show the key error because the key named 'foo' is not present in the spam dict.\n"
   ]
  },
  {
   "cell_type": "code",
   "execution_count": 7,
   "id": "90157565",
   "metadata": {},
   "outputs": [],
   "source": [
    "#5.If a dictionary is stored in spam, what is the difference between the expressions 'cat' in spam and 'cat ' in spam.keys()?\n",
    "# There is no difference. The in operator checks whether a value exists as a key in the dictionary. 'cat ' in spam.keys() \n",
    "# in spam checks whether there is a 'cat' key in the dictionary."
   ]
  },
  {
   "cell_type": "code",
   "execution_count": 8,
   "id": "e9d7b171",
   "metadata": {},
   "outputs": [],
   "source": [
    "#6.If a dictionary is stored in spam, what is the difference between the expressions 'cat' in spam and 'cat ' in spam.values()?\n",
    "#'cat' in spam 'cat' in spam checks whether there is a 'cat' key in the dictionary while 'cat' in spam. values() checks \n",
    "#whether there is a value 'cat' for one of the keys in spam ."
   ]
  },
  {
   "cell_type": "code",
   "execution_count": 10,
   "id": "63a74051",
   "metadata": {},
   "outputs": [],
   "source": [
    "#7. What is a shortcut for the following code?\n",
    "#if color ; not in spam:\n",
    "#spam['color'] = 'black'\n",
    "#Ans spam.setdefault('color', 'black')"
   ]
  },
  {
   "cell_type": "code",
   "execution_count": null,
   "id": "4c61660e",
   "metadata": {},
   "outputs": [],
   "source": [
    "#8. How do you\"pretty print\" dictionary values using which module and function?\n",
    "#   pprint.pprint()"
   ]
  }
 ],
 "metadata": {
  "kernelspec": {
   "display_name": "Python 3 (ipykernel)",
   "language": "python",
   "name": "python3"
  },
  "language_info": {
   "codemirror_mode": {
    "name": "ipython",
    "version": 3
   },
   "file_extension": ".py",
   "mimetype": "text/x-python",
   "name": "python",
   "nbconvert_exporter": "python",
   "pygments_lexer": "ipython3",
   "version": "3.9.7"
  }
 },
 "nbformat": 4,
 "nbformat_minor": 5
}
