{
 "cells": [
  {
   "cell_type": "code",
   "execution_count": 1,
   "id": "560867dc",
   "metadata": {},
   "outputs": [
    {
     "name": "stdout",
     "output_type": "stream",
     "text": [
      "Hello Python\n"
     ]
    }
   ],
   "source": [
    "#1.\tWrite a Python program to print \"Hello Python\"?\n",
    "print(\"Hello Python\")"
   ]
  },
  {
   "cell_type": "code",
   "execution_count": 2,
   "id": "c6c50f04",
   "metadata": {},
   "outputs": [
    {
     "name": "stdout",
     "output_type": "stream",
     "text": [
      "25\n",
      "0.6666666666666666\n"
     ]
    }
   ],
   "source": [
    "#2.\tWrite a Python program to do arithmetical operations addition and division.?\n",
    "a,b,=10,15\n",
    "c=a+b\n",
    "print(c)\n",
    "d=a/b\n",
    "print(d)"
   ]
  },
  {
   "cell_type": "code",
   "execution_count": 19,
   "id": "20d69a1d",
   "metadata": {},
   "outputs": [
    {
     "name": "stdout",
     "output_type": "stream",
     "text": [
      "Enter the leagth of triangle/a\n",
      "2\n",
      "Enter the Breadth of triangle/b:\n",
      "3\n",
      "Enter the diagonal  of triangle/c:\n",
      "4\n",
      "Area of given triangle 2.9047375096555625 units\n"
     ]
    }
   ],
   "source": [
    "#3.\tWrite a Python program to find the area of a triangle?\n",
    "import math\n",
    "\n",
    "print(\"Enter the leagth of triangle/a\")\n",
    "a=input()\n",
    "print(\"Enter the Breadth of triangle/b:\")\n",
    "b=input()\n",
    "print(\"Enter the diagonal  of triangle/c:\")\n",
    "c=input()\n",
    "a=float(a)\n",
    "b=float(b)\n",
    "c=float(c)\n",
    "\n",
    "z=(a + b + c)/2\n",
    "ar=(z*(z-a)*(z-b)*(z-c))\n",
    "area=math.sqrt(ar)\n",
    "\n",
    "print(\"Area of given triangle\",area, \"units\")\n"
   ]
  },
  {
   "cell_type": "code",
   "execution_count": 23,
   "id": "d10a5aec",
   "metadata": {},
   "outputs": [
    {
     "name": "stdout",
     "output_type": "stream",
     "text": [
      "enter variable one:\n",
      "ashu\n",
      "enter variable two\n",
      "raja\n",
      "enter variable one: raja\n",
      "enter variable one: ashu\n"
     ]
    }
   ],
   "source": [
    "#4.\tWrite a Python program to swap two variables?\n",
    "print(\"enter variable one:\")\n",
    "j=input()\n",
    "print(\"enter variable two\")\n",
    "k=input()\n",
    "temp = j\n",
    "j = k\n",
    "k = temp\n",
    "print(\"enter variable one:\" ,j)\n",
    "print(\"enter variable one:\",k)\n",
    "\n"
   ]
  },
  {
   "cell_type": "code",
   "execution_count": 27,
   "id": "c30211df",
   "metadata": {},
   "outputs": [
    {
     "name": "stdout",
     "output_type": "stream",
     "text": [
      "41\n"
     ]
    }
   ],
   "source": [
    "#5.\tWrite a Python program to generate a random number?\n",
    "import random\n",
    "print(random.randint(0,100))"
   ]
  },
  {
   "cell_type": "code",
   "execution_count": null,
   "id": "7c7c6300",
   "metadata": {},
   "outputs": [],
   "source": []
  }
 ],
 "metadata": {
  "kernelspec": {
   "display_name": "Python 3 (ipykernel)",
   "language": "python",
   "name": "python3"
  },
  "language_info": {
   "codemirror_mode": {
    "name": "ipython",
    "version": 3
   },
   "file_extension": ".py",
   "mimetype": "text/x-python",
   "name": "python",
   "nbconvert_exporter": "python",
   "pygments_lexer": "ipython3",
   "version": "3.9.7"
  }
 },
 "nbformat": 4,
 "nbformat_minor": 5
}
