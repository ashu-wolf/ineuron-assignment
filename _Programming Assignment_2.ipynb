{
 "cells": [
  {
   "cell_type": "code",
   "execution_count": null,
   "id": "ce080649",
   "metadata": {},
   "outputs": [],
   "source": [
    "#1.\tWrite a Python program to convert kilometers to miles?\n",
    "print(\"Enter the value in KM\")\n",
    "a=input()\n",
    "a=float(a)\n",
    "b=a*0.62137 \n",
    "print (\"entred value in Miles is \",b )"
   ]
  },
  {
   "cell_type": "code",
   "execution_count": 3,
   "id": "60b751ee",
   "metadata": {},
   "outputs": [
    {
     "name": "stdout",
     "output_type": "stream",
     "text": [
      "Enter the value in Celsius \n",
      "45\n",
      "Enter the value in Fahrenheit  113.0\n"
     ]
    }
   ],
   "source": [
    "#2.\tWrite a Python program to convert Celsius to Fahrenheit?\n",
    "print(\"Enter the value in Celsius \")\n",
    "d=input()\n",
    "d=float(d)\n",
    "F=(d*1.8) + 32 \n",
    "print(\"Enter the value in Fahrenheit \", F )"
   ]
  },
  {
   "cell_type": "code",
   "execution_count": null,
   "id": "aeed04d4",
   "metadata": {},
   "outputs": [],
   "source": [
    "\n"
   ]
  },
  {
   "cell_type": "code",
   "execution_count": 5,
   "id": "24840491",
   "metadata": {},
   "outputs": [
    {
     "name": "stdout",
     "output_type": "stream",
     "text": [
      "   February 2022\n",
      "Mo Tu We Th Fr Sa Su\n",
      "    1  2  3  4  5  6\n",
      " 7  8  9 10 11 12 13\n",
      "14 15 16 17 18 19 20\n",
      "21 22 23 24 25 26 27\n",
      "28\n",
      "\n"
     ]
    }
   ],
   "source": [
    "# Program to display calendar of the given month and year\n",
    "\n",
    "# importing calendar module\n",
    "import calendar\n",
    "\n",
    "yy = 2022  # year\n",
    "mm = 2   # month\n",
    "\n",
    "\n",
    "print(calendar.month(yy, mm))\n"
   ]
  },
  {
   "cell_type": "code",
   "execution_count": 14,
   "id": "ab97da03",
   "metadata": {},
   "outputs": [
    {
     "name": "stdout",
     "output_type": "stream",
     "text": [
      "The solution are  (-3+0j) (-2+0j)\n"
     ]
    }
   ],
   "source": [
    "#4.\tWrite a Python program to solve quadratic equation?\n",
    "import math \n",
    "\n",
    "import cmath\n",
    "a = 1\n",
    "b = 5\n",
    "c = 6\n",
    "d=(b**2 -(4*a*c))\n",
    "sol1=(-b-cmath.sqrt(d))/(2*a)\n",
    "sol2=(-b+cmath.sqrt(d))/(2*a)\n",
    "print(\"The solution are \",sol1,sol2)\n"
   ]
  },
  {
   "cell_type": "code",
   "execution_count": 16,
   "id": "f88472e5",
   "metadata": {},
   "outputs": [
    {
     "name": "stdout",
     "output_type": "stream",
     "text": [
      "enter the variable a:\n",
      "10\n",
      "enter the variable b:\n",
      "5\n",
      "the value of a: 5\n",
      "the value of b: 10\n"
     ]
    }
   ],
   "source": [
    "#5.\tWrite a Python program to swap two variables without temp variable?\n",
    "print(\"enter the variable a:\")\n",
    "x=input()\n",
    "print(\"enter the variable b:\")\n",
    "y=input()\n",
    "x, y = y, x\n",
    "print(\"the value of a:\",x)\n",
    "print(\"the value of b:\",y)\n"
   ]
  },
  {
   "cell_type": "code",
   "execution_count": null,
   "id": "17020229",
   "metadata": {},
   "outputs": [],
   "source": []
  }
 ],
 "metadata": {
  "kernelspec": {
   "display_name": "Python 3 (ipykernel)",
   "language": "python",
   "name": "python3"
  },
  "language_info": {
   "codemirror_mode": {
    "name": "ipython",
    "version": 3
   },
   "file_extension": ".py",
   "mimetype": "text/x-python",
   "name": "python",
   "nbconvert_exporter": "python",
   "pygments_lexer": "ipython3",
   "version": "3.9.7"
  }
 },
 "nbformat": 4,
 "nbformat_minor": 5
}
