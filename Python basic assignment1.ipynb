{
 "cells": [
  {
   "cell_type": "code",
   "execution_count": 108,
   "id": "e2c6cbd9",
   "metadata": {},
   "outputs": [],
   "source": [
    "#1. In the below elements which of them are values or an expression? eg:- values can be integer or string and expressions will be mathematical operators.\n",
    "# *,  -,/,+, expression  \n",
    "#-87.8 float\n",
    "# \"hello\"- string \n",
    "# 6 - integer "
   ]
  },
  {
   "cell_type": "code",
   "execution_count": null,
   "id": "bc5e4252",
   "metadata": {},
   "outputs": [],
   "source": [
    "#2. What is the difference between string and variable?\n",
    "# variable is  a memory adress where we can store multiple data types likes integer ,string ,float etc .where string is data type and it can be stored in variable  "
   ]
  },
  {
   "cell_type": "code",
   "execution_count": 110,
   "id": "a4967e4e",
   "metadata": {},
   "outputs": [],
   "source": [
    "#3. Describe three different data types.\n",
    "# integer - it ranges from 0-infinity \n",
    "#string - it is collection of words and character and alphabates \n",
    "#float - it used to represents with a decimal point dividing the integer and fractional parts"
   ]
  },
  {
   "cell_type": "code",
   "execution_count": 111,
   "id": "f84c8bd6",
   "metadata": {},
   "outputs": [],
   "source": [
    "#4. What is an expression made up of? What do all expressions do?\n",
    "# An expression is a construct made up of variables, operators, and method invocations .expression return a value after execution of it ."
   ]
  },
  {
   "cell_type": "code",
   "execution_count": 112,
   "id": "2022b91a",
   "metadata": {},
   "outputs": [],
   "source": [
    "#5. This assignment statements, like spam = 10. What is the difference between an expression and a statement ?\n",
    "#expression returns a value after execution of it where is in statment its doesn't return anything ."
   ]
  },
  {
   "cell_type": "code",
   "execution_count": 113,
   "id": "0136a411",
   "metadata": {},
   "outputs": [
    {
     "data": {
      "text/plain": [
       "23"
      ]
     },
     "execution_count": 113,
     "metadata": {},
     "output_type": "execute_result"
    }
   ],
   "source": [
    "#6. After running the following code, what does the variable bacon contain?\n",
    "bacon = 22\n",
    "bacon + 1\n",
    "#ans 23 "
   ]
  },
  {
   "cell_type": "code",
   "execution_count": 118,
   "id": "f3396ddd",
   "metadata": {},
   "outputs": [
    {
     "data": {
      "text/plain": [
       "'spamspamspam'"
      ]
     },
     "execution_count": 118,
     "metadata": {},
     "output_type": "execute_result"
    }
   ],
   "source": [
    "#7. What should the values of the following two terms be?\n",
    "'spam' + 'spamspam'\n",
    "'spam' * 3"
   ]
  },
  {
   "cell_type": "code",
   "execution_count": 119,
   "id": "745e6166",
   "metadata": {},
   "outputs": [],
   "source": [
    "#8. Why is eggs a valid variable name while 100 is invalid?\n",
    "#variable name cannot be started with numeric or integer "
   ]
  },
  {
   "cell_type": "code",
   "execution_count": 120,
   "id": "cfeb2b7b",
   "metadata": {},
   "outputs": [],
   "source": [
    "#9. What three functions can be used to get the integer, floating-point number, or string version of a value?\n",
    "# int(),float(),str()\n"
   ]
  },
  {
   "cell_type": "code",
   "execution_count": 122,
   "id": "8ea583f7",
   "metadata": {},
   "outputs": [
    {
     "data": {
      "text/plain": [
       "'I have eaten 99 burritos.'"
      ]
     },
     "execution_count": 122,
     "metadata": {},
     "output_type": "execute_result"
    }
   ],
   "source": [
    "#10. Why does this expression cause an error? How can you fix it?\n",
    " #we cant add integer with string we have to convert 99 to string \n",
    "#'I have eaten ' + 99 + ' burritos.'\n",
    "'I have eaten ' +str( 99 )+ ' burritos.'"
   ]
  },
  {
   "cell_type": "code",
   "execution_count": null,
   "id": "981d99ab",
   "metadata": {},
   "outputs": [],
   "source": []
  }
 ],
 "metadata": {
  "kernelspec": {
   "display_name": "Python 3 (ipykernel)",
   "language": "python",
   "name": "python3"
  },
  "language_info": {
   "codemirror_mode": {
    "name": "ipython",
    "version": 3
   },
   "file_extension": ".py",
   "mimetype": "text/x-python",
   "name": "python",
   "nbconvert_exporter": "python",
   "pygments_lexer": "ipython3",
   "version": "3.9.7"
  }
 },
 "nbformat": 4,
 "nbformat_minor": 5
}
