{
 "cells": [
  {
   "cell_type": "code",
   "execution_count": 3,
   "id": "e80a50e7",
   "metadata": {},
   "outputs": [],
   "source": [
    "#1. Why are functions advantageous to have in your programs?\n",
    "#it can be reused multiple time \n",
    "#easy to edit and debug \n",
    "#we dont have to write multiple times \n",
    "#it can be scalable \n"
   ]
  },
  {
   "cell_type": "code",
   "execution_count": 4,
   "id": "80089925",
   "metadata": {},
   "outputs": [],
   "source": [
    "#2. When does the code in a function run: when it's specified or when it's called?\n",
    "#function is run only when it is called .other wise it doesnot execute "
   ]
  },
  {
   "cell_type": "code",
   "execution_count": 5,
   "id": "789c826d",
   "metadata": {},
   "outputs": [],
   "source": [
    "#3. What statement creates a function?\n",
    "# keyword \"def\" is used to creat a function .but in case of single line sort function keyword \"lambda\"can be used "
   ]
  },
  {
   "cell_type": "code",
   "execution_count": 6,
   "id": "b253695b",
   "metadata": {},
   "outputs": [],
   "source": [
    "#4. What is the difference between a function and a function call?\n",
    "#function is set of code which is used to achive set of task which \n",
    "#can be defined by specific name by the help of def keyword .where is  calling a \n",
    "#function means we have to use defined function name to execute the task inside the function "
   ]
  },
  {
   "cell_type": "code",
   "execution_count": 1,
   "id": "c024d67b",
   "metadata": {},
   "outputs": [],
   "source": [
    "#5. How many global scopes are there in a Python program? How many local scopes?\n",
    "#*****\n"
   ]
  },
  {
   "cell_type": "code",
   "execution_count": 2,
   "id": "841b4bdb",
   "metadata": {},
   "outputs": [],
   "source": [
    "#What happens to variables in a local scope when the function call returns?\n",
    "#it becomes invalid after execution "
   ]
  },
  {
   "cell_type": "code",
   "execution_count": 3,
   "id": "d53e906d",
   "metadata": {},
   "outputs": [],
   "source": [
    "#What is the concept of a return value? Is it possible to have a return value in an expression?\n",
    "#A return statement is used to end the execution of the function call and “returns” the result after its execution.yes it is possible to use return a value in expression ."
   ]
  },
  {
   "cell_type": "code",
   "execution_count": 4,
   "id": "38be2562",
   "metadata": {},
   "outputs": [],
   "source": [
    "#. If a function does not have a return statement, what is the return value of a call to that function?\n",
    "#. If a function does not have a return statement, 'NONE' is the return value of a call to that function"
   ]
  },
  {
   "cell_type": "code",
   "execution_count": 5,
   "id": "61c81d75",
   "metadata": {},
   "outputs": [],
   "source": [
    "#How do you make a function variable refer to the global variable?\n",
    "#by using global keyward we can make any local fucntion global variable.\n"
   ]
  },
  {
   "cell_type": "code",
   "execution_count": 6,
   "id": "270cb956",
   "metadata": {},
   "outputs": [],
   "source": [
    "#10. What is the data type of None?\n",
    "#data type of none is nonetype"
   ]
  },
  {
   "cell_type": "code",
   "execution_count": null,
   "id": "db0b25ab",
   "metadata": {},
   "outputs": [],
   "source": [
    "#11. What does the sentence import areallyourpetsnamederic?\n",
    "#cant under stand this question  "
   ]
  },
  {
   "cell_type": "code",
   "execution_count": 7,
   "id": "7bda29ef",
   "metadata": {},
   "outputs": [],
   "source": [
    "#12. If you had a bacon() feature in a spam module, what would you call it after importing spam?\n",
    "#spam.bacon()"
   ]
  },
  {
   "cell_type": "code",
   "execution_count": 8,
   "id": "8b4db363",
   "metadata": {},
   "outputs": [],
   "source": [
    "#13. What can you do to save a programme from crashing if it encounters an error?\n",
    "#we need to do error and exception handling so is the programming occure error than it can show user what kind of error occured "
   ]
  },
  {
   "cell_type": "code",
   "execution_count": 9,
   "id": "8194a046",
   "metadata": {},
   "outputs": [],
   "source": [
    "#14. What is the purpose of the try clause? What is the purpose of the except clause?\n",
    "#The try block lets you test a block of code for errors.The except block lets you handle the error."
   ]
  },
  {
   "cell_type": "code",
   "execution_count": null,
   "id": "2f298bb8",
   "metadata": {},
   "outputs": [],
   "source": []
  }
 ],
 "metadata": {
  "kernelspec": {
   "display_name": "Python 3 (ipykernel)",
   "language": "python",
   "name": "python3"
  },
  "language_info": {
   "codemirror_mode": {
    "name": "ipython",
    "version": 3
   },
   "file_extension": ".py",
   "mimetype": "text/x-python",
   "name": "python",
   "nbconvert_exporter": "python",
   "pygments_lexer": "ipython3",
   "version": "3.9.7"
  }
 },
 "nbformat": 4,
 "nbformat_minor": 5
}
