{
 "cells": [
  {
   "cell_type": "code",
   "execution_count": null,
   "id": "eb67d6fa",
   "metadata": {},
   "outputs": [],
   "source": [
    "\"\"\"  \n",
    "1. To what does a relative path refer?\n",
    "A relative path refers to a location that is relative to a current directory. Relative paths make use of two special \n",
    "symbols, a dot (.) and a double-dot (..), which translate into the current directory and the parent directory. Double \n",
    "dots are used for moving up in the hierarchy. A single dot represents the current directory itself.\n",
    "\"\"\""
   ]
  },
  {
   "cell_type": "code",
   "execution_count": null,
   "id": "e94e03b6",
   "metadata": {},
   "outputs": [],
   "source": [
    "\"\"\"  \n",
    "2. What does an absolute path start with your operating system?\n",
    "An absolute path refers to the complete details needed to locate a file or folder, starting from the root element and \n",
    "ending with the other subdirectories. Absolute paths are used in websites and operating systems for locating files and\n",
    "folders.\n",
    "\"\"\""
   ]
  },
  {
   "cell_type": "code",
   "execution_count": 4,
   "id": "089cd894",
   "metadata": {},
   "outputs": [
    {
     "data": {
      "text/plain": [
       "'C:\\\\Users\\\\alenka'"
      ]
     },
     "execution_count": 4,
     "metadata": {},
     "output_type": "execute_result"
    }
   ],
   "source": [
    "\"\"\"  \n",
    "3. What do the functions os.getcwd() and os.chdir() do?\n",
    " os.getcwd() it provides curret working directory and  os.chdir() it changes the current directory \n",
    "\"\"\"\n",
    "import os\n",
    "os.getcwd()\n"
   ]
  },
  {
   "cell_type": "code",
   "execution_count": null,
   "id": "baac79ad",
   "metadata": {},
   "outputs": [],
   "source": [
    "\"\"\"  \n",
    "4. What are the . and .. folders?\n",
    "The . folder is the current folder, and .. is the parent folder\n",
    "\"\"\""
   ]
  },
  {
   "cell_type": "code",
   "execution_count": null,
   "id": "9f5380a6",
   "metadata": {},
   "outputs": [],
   "source": [
    "\"\"\"  \n",
    "5. In C:\\bacon\\eggs\\spam.txt, which part is the dir name, and which part is the base name?\n",
    "C:\\bacon\\eggs is the dir name, while spam.txt is the base name \n",
    "\"\"\""
   ]
  },
  {
   "cell_type": "code",
   "execution_count": null,
   "id": "1511de5a",
   "metadata": {},
   "outputs": [],
   "source": [
    "\"\"\"  \n",
    "6. What are the three “mode” arguments that can be passed to the open() function?\n",
    "r-read ,w-write ,a-append\n",
    "\"\"\""
   ]
  },
  {
   "cell_type": "code",
   "execution_count": null,
   "id": "672ccb14",
   "metadata": {},
   "outputs": [],
   "source": [
    "\"\"\"  \n",
    "7. What happens if an existing file is opened in write mode?\n",
    "An existing file opened in write mode is erased and completely overwritten.\n",
    "\n",
    "\"\"\""
   ]
  },
  {
   "cell_type": "code",
   "execution_count": null,
   "id": "f141675c",
   "metadata": {},
   "outputs": [],
   "source": [
    "\"\"\"  \n",
    "8. How do you tell the difference between read() and readlines()?\n",
    "The read() method returns the file's entire contents as a single string value. The readlines() method returns\n",
    "a list of strings, where each string is a line from the file's contents.\n",
    "\"\"\""
   ]
  },
  {
   "cell_type": "code",
   "execution_count": null,
   "id": "9135c22c",
   "metadata": {},
   "outputs": [],
   "source": [
    "\"\"\"\n",
    "9. What data structure does a shelf value resemble?\n",
    "A shelf value resembles a dictionary value; it has keys and values, along with keys() and values() methods that \n",
    "work similarly to the dictionary methods of the same names.\n",
    "\"\"\""
   ]
  }
 ],
 "metadata": {
  "kernelspec": {
   "display_name": "Python 3 (ipykernel)",
   "language": "python",
   "name": "python3"
  },
  "language_info": {
   "codemirror_mode": {
    "name": "ipython",
    "version": 3
   },
   "file_extension": ".py",
   "mimetype": "text/x-python",
   "name": "python",
   "nbconvert_exporter": "python",
   "pygments_lexer": "ipython3",
   "version": "3.9.12"
  }
 },
 "nbformat": 4,
 "nbformat_minor": 5
}
