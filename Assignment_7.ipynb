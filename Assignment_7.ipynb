{
 "cells": [
  {
   "cell_type": "code",
   "execution_count": 1,
   "id": "fb5cc838",
   "metadata": {},
   "outputs": [
    {
     "data": {
      "text/plain": [
       "'1. What is the name of the feature responsible for generating Regex objects?\\nre.compile() is used to generate Regex object '"
      ]
     },
     "execution_count": 1,
     "metadata": {},
     "output_type": "execute_result"
    }
   ],
   "source": [
    "\"\"\"1. What is the name of the feature responsible for generating Regex objects?\n",
    "Ans. re.compile() is used to generate Regex object \"\"\""
   ]
  },
  {
   "cell_type": "code",
   "execution_count": 2,
   "id": "3a993a7d",
   "metadata": {},
   "outputs": [
    {
     "data": {
      "text/plain": [
       "'Why do raw strings often appear in Regex objects? \\nRaw strings are used so that backslashes do not have to be escaped.'"
      ]
     },
     "execution_count": 2,
     "metadata": {},
     "output_type": "execute_result"
    }
   ],
   "source": [
    "\"\"\"2.Why do raw strings often appear in Regex objects? \n",
    "Ans.Raw strings are used so that backslashes do not have to be escaped.\"\"\""
   ]
  },
  {
   "cell_type": "code",
   "execution_count": null,
   "id": "f3b5bdb7",
   "metadata": {},
   "outputs": [],
   "source": [
    "\"\"\"3.What is the return value of the search() method? \n",
    "Ans.The search() method returns Match objects. \"\"\""
   ]
  },
  {
   "cell_type": "code",
   "execution_count": null,
   "id": "e6d79b37",
   "metadata": {},
   "outputs": [],
   "source": [
    " \"\"\"4. From a Match item, how do you get the actual strings that match the pattern? \n",
    " Ans.The group() method returns strings of the matched text. \"\"\""
   ]
  },
  {
   "cell_type": "code",
   "execution_count": null,
   "id": "25605685",
   "metadata": {},
   "outputs": [],
   "source": [
    " \"\"\" 5.In the regex which created from the r&#39;(\\d\\d\\d)-(\\d\\d\\d-\\d\\d\\d\\d)&#39;, what does group zero cover?\n",
    "Group 2? Group 1?\n",
    "Ans.Group 0 is the entire match, group 1 covers the first set of parentheses, and group 2 covers the second set of \n",
    "parentheses.\n",
    "\n",
    "\"\"\""
   ]
  },
  {
   "cell_type": "code",
   "execution_count": null,
   "id": "871349b8",
   "metadata": {},
   "outputs": [],
   "source": [
    " \"\"\" 6. In standard expression syntax, parentheses and intervals have distinct meanings. How can you tell\n",
    "a regex that you want it to fit real parentheses and periods?\n",
    "Ans. escape charater back slash ar eused to separete \n",
    "\"\"\""
   ]
  },
  {
   "cell_type": "code",
   "execution_count": null,
   "id": "35e28e8d",
   "metadata": {},
   "outputs": [],
   "source": [
    " \"\"\" 7.The findall() method returns a string list or a list of string tuples. What causes it to return one of\n",
    "the two options? \n",
    "Ans. If the regex has no groups, a list of strings is returned. If the regex has groups, a list of tuples of strings\n",
    "is returned.\n",
    "\"\"\""
   ]
  },
  {
   "cell_type": "code",
   "execution_count": null,
   "id": "5a02cf18",
   "metadata": {},
   "outputs": [],
   "source": [
    " \"\"\" 8. In regular expressions, what does the character | stand for? \n",
    " Ans.The | character signifies matching \"either, or\" between two groups.\n",
    " \"\"\""
   ]
  },
  {
   "cell_type": "code",
   "execution_count": null,
   "id": "e77a8c0a",
   "metadata": {},
   "outputs": [],
   "source": [
    " \"\"\" 9.In regular expressions, what does the character stand for?   \n",
    " Ans. Each character in a regular expression either a metacharacter.\n",
    " For example, in the regex b. , 'b' is a literal character that matches just 'b'. \"\"\""
   ]
  },
  {
   "cell_type": "code",
   "execution_count": null,
   "id": "0a9a9c44",
   "metadata": {},
   "outputs": [],
   "source": [
    " \"\"\" \n",
    " 10.In regular expressions, what is the difference between the + and * characters? \n",
    " Ans.The + matches one or more. The * matches zero or more.\n",
    " \"\"\""
   ]
  },
  {
   "cell_type": "code",
   "execution_count": null,
   "id": "b193ec64",
   "metadata": {},
   "outputs": [],
   "source": [
    " \"\"\"  \n",
    " 11. What is the difference between {4} and {4,5} in regular expression?\n",
    " Ans. {4} denotes exact  number of charater and {4,5}  this denotes range of number of characters.\n",
    " \"\"\""
   ]
  },
  {
   "cell_type": "code",
   "execution_count": null,
   "id": "7ca37516",
   "metadata": {},
   "outputs": [],
   "source": [
    " \"\"\" \n",
    " 12. What do you mean by the \\d, \\w, and \\s shorthand character classes signify in regular\n",
    "expressions?\n",
    "Ans. \\d it represents integer \n",
    "\\w  it represents word charater \n",
    "\\s it represents whitespace \n",
    " \"\"\""
   ]
  },
  {
   "cell_type": "code",
   "execution_count": null,
   "id": "467107c8",
   "metadata": {},
   "outputs": [],
   "source": [
    " \"\"\"  \n",
    " 13. What do means by \\D, \\W, and \\S shorthand character classes signify in regular expressions?\n",
    " Ans.\n",
    " \\D it represents Not a digit \n",
    " \\W it represents Not  word charater \n",
    " \\S it represents Not whitespace \n",
    " \"\"\""
   ]
  },
  {
   "cell_type": "code",
   "execution_count": null,
   "id": "93a0fb2a",
   "metadata": {},
   "outputs": [],
   "source": [
    " \"\"\" \n",
    " 14. What is the difference between .*? and .*?\n",
    " Ans..*? is non-greedy. * will match nothing, but then will try to match extra characters until it matches 101\n",
    " \n",
    " \"\"\""
   ]
  },
  {
   "cell_type": "code",
   "execution_count": null,
   "id": "ce4257a4",
   "metadata": {},
   "outputs": [],
   "source": [
    " \"\"\"  \n",
    " 15. What is the syntax for matching both numbers and lowercase letters with a character class?\n",
    " Ans.  [a-zA-Z0-9] \n",
    " \"\"\""
   ]
  },
  {
   "cell_type": "code",
   "execution_count": null,
   "id": "aef58d6c",
   "metadata": {},
   "outputs": [],
   "source": [
    "\"\"\"\n",
    "16. What is the procedure for making a normal expression in regax case insensitive?\n",
    "Ans. re.IGNORECASE  is used to ignore case in re.compile() \n",
    "\n",
    "\"\"\""
   ]
  },
  {
   "cell_type": "code",
   "execution_count": null,
   "id": "8f1e97a0",
   "metadata": {},
   "outputs": [],
   "source": [
    " \"\"\" \n",
    " 17. What does the . character normally match? What does it match if re.DOTALL is passed as 2nd\n",
    "argument in re.compile()? \n",
    "Ans.The . character normally matches any character except the newline character. If re.DOTALL is passed\n",
    " as the second argument to re.compile(), then the dot will also match newline characters.\n",
    " \"\"\""
   ]
  },
  {
   "cell_type": "code",
   "execution_count": null,
   "id": "027fe329",
   "metadata": {},
   "outputs": [],
   "source": [
    " \"\"\" \n",
    " 18. If numReg = re.compile(r\\d+), what will numRegex.sub('X','11 drummers, 10 pipers, five rings,4 hen') return?\n",
    "Ans. 'x drummers, x pipers, five rings,x hen'\n",
    " \"\"\" "
   ]
  },
  {
   "cell_type": "code",
   "execution_count": null,
   "id": "488da1eb",
   "metadata": {},
   "outputs": [],
   "source": [
    " \"\"\"  \n",
    " 19. What does passing re.VERBOSE as the 2nd argument to re.compile() allow to do?\n",
    " The re.VERBOSE argument allows you to add whitespace and comments to the string passed to re.compile().\n",
    " \"\"\" "
   ]
  },
  {
   "cell_type": "code",
   "execution_count": null,
   "id": "4632d624",
   "metadata": {},
   "outputs": [],
   "source": [
    " \"\"\" \n",
    " 20. How would you write a regex that matches a number with commas for every three digits? It must match the following:\n",
    "'42'\n",
    "'1,234\n",
    "'6,368,745'\n",
    "but not the following:\n",
    "'12,34,567' (which has only two digits between the commas)\n",
    "'1234' (which lacks commas)\n",
    " \n",
    " Ans. re.compile(r'^\\d{1,3}(,\\d{3})*$') will create this regex\n",
    " \"\"\" "
   ]
  },
  {
   "cell_type": "code",
   "execution_count": null,
   "id": "ca5db308",
   "metadata": {},
   "outputs": [],
   "source": [
    " \"\"\" \n",
    "21. How would you write a regex that matches the full name of someone whose last name is Nakamoto? You can assume that the first name that comes before it will always be one word that begins with a capital letter. The regex must match the following:\n",
    "\n",
    "'Haruto Watanabe'\n",
    "'Alice Watanabe'\n",
    "'RoboCop Watanabe'\n",
    "but not the following:\n",
    "'haruto Watanabe '(where the first name is not capitalized)\n",
    "'Mr. Watanabe '(where the preceding word has a nonletter character)\n",
    "'Watanabe' (which has no first name)\n",
    "'Haruto watanabe' (where Watanabe is not capitalized)\n",
    "\n",
    "Ans.re.compile(r'[A-Z][a-z]*\\sWatanabe')\n",
    " \"\"\" "
   ]
  },
  {
   "cell_type": "code",
   "execution_count": null,
   "id": "1c4db09d",
   "metadata": {},
   "outputs": [],
   "source": [
    " \"\"\"  \n",
    "22 . How would you write a regex that matches a sentence where the first word is either Alice, Bob,\n",
    "or Carol; the second word is either eats, pets, or throws; the third word is apples, cats, or baseballs;\n",
    "and the sentence ends with a period? This regex should be case-insensitive. It must match the\n",
    "following:\n",
    "'Alice eats apples'\n",
    "'Bob pets cats'\n",
    "'Carol throws baseballs'\n",
    "'Alice throws Apples'\n",
    "'BOB EATS CATS'\n",
    "'but not the following:'\n",
    "'RoboCop eats apples'\n",
    "'ALICE THROWS FOOTBALLS'\n",
    "'Carol eats 7 cats'\n",
    "\n",
    "Ans\n",
    "re.compile(r'(Alice|Bob|Carol)\\s(eats|pets|throws)\\s(apples|cats|baseballs)\\.', re.IGNORECASE)\n",
    "\n",
    "\n",
    " \"\"\" "
   ]
  },
  {
   "cell_type": "code",
   "execution_count": null,
   "id": "e07f6340",
   "metadata": {},
   "outputs": [],
   "source": []
  },
  {
   "cell_type": "code",
   "execution_count": null,
   "id": "eb7bb35a",
   "metadata": {},
   "outputs": [],
   "source": []
  },
  {
   "cell_type": "code",
   "execution_count": null,
   "id": "57380c75",
   "metadata": {},
   "outputs": [],
   "source": []
  },
  {
   "cell_type": "code",
   "execution_count": null,
   "id": "ec54a911",
   "metadata": {},
   "outputs": [],
   "source": []
  },
  {
   "cell_type": "code",
   "execution_count": null,
   "id": "d3405547",
   "metadata": {},
   "outputs": [],
   "source": []
  }
 ],
 "metadata": {
  "kernelspec": {
   "display_name": "Python 3 (ipykernel)",
   "language": "python",
   "name": "python3"
  },
  "language_info": {
   "codemirror_mode": {
    "name": "ipython",
    "version": 3
   },
   "file_extension": ".py",
   "mimetype": "text/x-python",
   "name": "python",
   "nbconvert_exporter": "python",
   "pygments_lexer": "ipython3",
   "version": "3.9.12"
  }
 },
 "nbformat": 4,
 "nbformat_minor": 5
}
