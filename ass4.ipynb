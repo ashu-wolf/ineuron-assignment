{
 "cells": [
  {
   "cell_type": "code",
   "execution_count": 1,
   "id": "260bae7c",
   "metadata": {},
   "outputs": [],
   "source": [
    "#17. How do you distinguish between copy.copy() and copy.deepcopy()?\n",
    "#copy() create reference to original object. If you change copied object - you change the original object. \n",
    "#deepcopy() creates new object and does real copying of original object to new one. Changing new deepcopied object doesn't affect original object."
   ]
  },
  {
   "cell_type": "code",
   "execution_count": 2,
   "id": "8f552850",
   "metadata": {},
   "outputs": [],
   "source": [
    "#16. Variables that 'contain' list values are not necessarily lists themselves. Instead, what do they contain?\n",
    "#Variables will contain references to list values rather than list values themselves. But for strings and integer values, \n",
    "#variables simply contain the string or integer value.\n"
   ]
  },
  {
   "cell_type": "code",
   "execution_count": 4,
   "id": "0b1df9dd",
   "metadata": {},
   "outputs": [],
   "source": [
    "#15.How do you get a list values tuple form? How do you get a tuple values list form?\n",
    "# to create list of tuples \n",
    "#data = [(1, 'sravan'), (2, 'ojaswi'), (3, 'bobby'),\n",
    " #       (4, 'rohith'), (5, 'gnanesh')\n",
    "#tuple of list like elements\n",
    "#dada1=([1,2,3],[4,5,6])"
   ]
  },
  {
   "cell_type": "code",
   "execution_count": 3,
   "id": "f060a6e2",
   "metadata": {},
   "outputs": [],
   "source": [
    "#14.How do you type a tuple value that only contains the integer 42?\n",
    "#(42,)\n"
   ]
  },
  {
   "cell_type": "code",
   "execution_count": 5,
   "id": "5b8f1d3d",
   "metadata": {},
   "outputs": [],
   "source": [
    "#13.What&#39;s the difference between tuples and lists?\n",
    "#difference between the tuples and lists is that while the tuples are immutable objects the lists are mutable. This means \n",
    "#that tuples cannot be changed while the lists can be modified.for data security tupels are better."
   ]
  },
  {
   "cell_type": "code",
   "execution_count": 6,
   "id": "015c2b10",
   "metadata": {},
   "outputs": [],
   "source": [
    "#12.Describe how list values and string values are identical?\n",
    "#The similarity between Lists and Strings in Python is that both are sequences"
   ]
  },
  {
   "cell_type": "code",
   "execution_count": 7,
   "id": "c9bc99ee",
   "metadata": {},
   "outputs": [],
   "source": [
    "#11. What are the two methods for removing items from a list?\n",
    "#remove(), pop()\n"
   ]
  },
  {
   "cell_type": "code",
   "execution_count": 8,
   "id": "94d2d533",
   "metadata": {},
   "outputs": [],
   "source": [
    "#10 What is difference between the list methods append() and insert()?\n",
    "# The only difference between append() and insert() is that insert function allows us to add a specific element at\n",
    "# a specified index of the list unlike append() where we can add the element only at end of the list"
   ]
  },
  {
   "cell_type": "code",
   "execution_count": 9,
   "id": "a1593e06",
   "metadata": {},
   "outputs": [],
   "source": [
    "#9. What are the list concatenation and list replication operators?\n",
    "#for list concatenation we can use the + and for list replication  *"
   ]
  },
  {
   "cell_type": "code",
   "execution_count": 20,
   "id": "252f5008",
   "metadata": {},
   "outputs": [],
   "source": [
    "#Lets pretend bacon has the list [3.14,3'cat' 11,'cat, True] for the next three questions.\n",
    "#6. What is the value of bacon.index('cat')?\n",
    "#a. 1\n",
    "#7. How does bacon.append(99) change the look of the list value in bacon?\n",
    "#a.[3.14, 'cat', 11, 'cat', True, 99]\n",
    "#8. How does bacon.remove(&#39;cat&#39;) change the look of the list in bacon?\n",
    "#[3.14, 11, 'cat', True, 99, 99]"
   ]
  },
  {
   "cell_type": "code",
   "execution_count": 21,
   "id": "03e263db",
   "metadata": {},
   "outputs": [],
   "source": [
    "#2. In a list of values stored in a variable called spam, how would you assign the value 'hello' as the\n",
    "#third value? (Assume [2, 4, 6, 8, 10] are in spam.)\n",
    "#spam.insert(2, 'hello')"
   ]
  },
  {
   "cell_type": "code",
   "execution_count": null,
   "id": "9a040b4e",
   "metadata": {},
   "outputs": [],
   "source": [
    "#Let&#39;s pretend the spam includes the list ['a','b','c','d'] for the next three queries.\n",
    "#3. What is the value of spam[int(int('3'*2)/11)]?\n",
    "#ans .'d'\n",
    "#4. What is the value of spam[-1]?\n",
    "#['d']\n",
    "#5. What is the value of spam[:2]?\n",
    "#['a', 'b']"
   ]
  },
  {
   "cell_type": "code",
   "execution_count": 30,
   "id": "c92018c2",
   "metadata": {},
   "outputs": [],
   "source": [
    "#1. What exactly is []?\n",
    "# empty list \n"
   ]
  }
 ],
 "metadata": {
  "kernelspec": {
   "display_name": "Python 3 (ipykernel)",
   "language": "python",
   "name": "python3"
  },
  "language_info": {
   "codemirror_mode": {
    "name": "ipython",
    "version": 3
   },
   "file_extension": ".py",
   "mimetype": "text/x-python",
   "name": "python",
   "nbconvert_exporter": "python",
   "pygments_lexer": "ipython3",
   "version": "3.9.7"
  }
 },
 "nbformat": 4,
 "nbformat_minor": 5
}
