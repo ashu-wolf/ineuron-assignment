{
 "cells": [
  {
   "cell_type": "code",
   "execution_count": 1,
   "id": "727ac8ae",
   "metadata": {},
   "outputs": [
    {
     "data": {
      "text/plain": [
       "'1. What are escape characters, and how do you use them?\\nTo insert characters that are illegal in a string, use an escape character.\\n\\nAn escape character is a backslash \\\\ followed by the character you want to insert.'"
      ]
     },
     "execution_count": 1,
     "metadata": {},
     "output_type": "execute_result"
    }
   ],
   "source": [
    "'''1. What are escape characters, and how do you use them?\n",
    "To insert characters that are illegal in a string, use an escape character.\n",
    "\n",
    "An escape character is a backslash \\ followed by the character you want to insert.'''"
   ]
  },
  {
   "cell_type": "code",
   "execution_count": 2,
   "id": "9153f652",
   "metadata": {},
   "outputs": [
    {
     "data": {
      "text/plain": [
       "'2. What do the escape characters n and t stand for?\\nn stands for new line and t stands for tab '"
      ]
     },
     "execution_count": 2,
     "metadata": {},
     "output_type": "execute_result"
    }
   ],
   "source": [
    "'''2. What do the escape characters n and t stand for?\n",
    "n stands for new line and t stands for tab '''\n"
   ]
  },
  {
   "cell_type": "code",
   "execution_count": null,
   "id": "4c0eb1ba",
   "metadata": {},
   "outputs": [],
   "source": [
    "'''3. What is the way to include backslash characters in a string?\n",
    "we have to add two backslash in the string to include un the string \n",
    "'''"
   ]
  },
  {
   "cell_type": "code",
   "execution_count": null,
   "id": "defc4bb7",
   "metadata": {},
   "outputs": [],
   "source": [
    "'''4. The string &quot;Howl&#39;s Moving Castle&quot; is a correct value. Why isn&#39;t the single quote character in the\n",
    "word Howl&#39;s not escaped a problem?\n",
    "single quote in Howl's is fine because we have used double quotes to mark the beginning and end of the string.'''"
   ]
  },
  {
   "cell_type": "code",
   "execution_count": null,
   "id": "e591a43f",
   "metadata": {},
   "outputs": [],
   "source": [
    "'''5. How do you write a string of newlines if you don&#39;t want to use the n character? \n",
    "\"end=\"keyword can be used to add new line to the print statement ''' "
   ]
  },
  {
   "cell_type": "code",
   "execution_count": 9,
   "id": "9011dbe8",
   "metadata": {},
   "outputs": [
    {
     "data": {
      "text/plain": [
       "\"6. What are the values of the given expressions?\\n'hello world'[1]=e\\n'hello world'[0:5]='hello'\\n'hello world'[:5]='hello'\\n'hello world'[:3]='lo world'\\n\""
      ]
     },
     "execution_count": 9,
     "metadata": {},
     "output_type": "execute_result"
    }
   ],
   "source": [
    "'''6. What are the values of the given expressions?\n",
    "'hello world'[1]=e\n",
    "'hello world'[0:5]='hello'\n",
    "'hello world'[:5]='hello'\n",
    "'hello world'[:3]='lo world'\n",
    "''' "
   ]
  },
  {
   "cell_type": "code",
   "execution_count": null,
   "id": "63aab65c",
   "metadata": {},
   "outputs": [],
   "source": [
    "'''7. What are the values of the following expressions?\n",
    "'Hellow'.upper()='HELLOW'\n",
    "'Hellow'.upper().isupper()=True\n",
    "'Hellow'.upper().lower()=hellow"
   ]
  },
  {
   "cell_type": "code",
   "execution_count": null,
   "id": "2f8f495b",
   "metadata": {},
   "outputs": [],
   "source": [
    "'''8. What are the values of the following expressions?\n"
   ]
  },
  {
   "cell_type": "code",
   "execution_count": 16,
   "id": "9c778c8f",
   "metadata": {},
   "outputs": [
    {
     "data": {
      "text/plain": [
       "['Remember,', 'remember,', 'the', 'fifth', 'of', 'July']"
      ]
     },
     "execution_count": 16,
     "metadata": {},
     "output_type": "execute_result"
    }
   ],
   "source": [
    "\"Remember, remember, the fifth of July\".split()\n"
   ]
  },
  {
   "cell_type": "code",
   "execution_count": 17,
   "id": "ab23e105",
   "metadata": {},
   "outputs": [
    {
     "data": {
      "text/plain": [
       "'there-is-only-one'"
      ]
     },
     "execution_count": 17,
     "metadata": {},
     "output_type": "execute_result"
    }
   ],
   "source": [
    "'-'.join('there is only one'.split())"
   ]
  },
  {
   "cell_type": "code",
   "execution_count": 24,
   "id": "3258883e",
   "metadata": {},
   "outputs": [
    {
     "data": {
      "text/plain": [
       "\"What are the methods for right-justifying, left-justifying, and centering a string?\\nljust(),rjust()and center()\\nljust('hellow world') \""
      ]
     },
     "execution_count": 24,
     "metadata": {},
     "output_type": "execute_result"
    }
   ],
   "source": [
    "'''What are the methods for right-justifying, left-justifying, and centering a string?\n",
    "ljust(),rjust()and center()\n",
    "ljust('hellow world') '''"
   ]
  },
  {
   "cell_type": "code",
   "execution_count": null,
   "id": "7a7d1a76",
   "metadata": {},
   "outputs": [],
   "source": [
    "'''What is the best way to remove whitespace characters from the start or end?\n",
    "trim() function can be used to '''"
   ]
  },
  {
   "cell_type": "code",
   "execution_count": null,
   "id": "f75d3ade",
   "metadata": {},
   "outputs": [],
   "source": []
  }
 ],
 "metadata": {
  "kernelspec": {
   "display_name": "Python 3 (ipykernel)",
   "language": "python",
   "name": "python3"
  },
  "language_info": {
   "codemirror_mode": {
    "name": "ipython",
    "version": 3
   },
   "file_extension": ".py",
   "mimetype": "text/x-python",
   "name": "python",
   "nbconvert_exporter": "python",
   "pygments_lexer": "ipython3",
   "version": "3.9.7"
  }
 },
 "nbformat": 4,
 "nbformat_minor": 5
}
